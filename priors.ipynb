{
 "cells": [
  {
   "cell_type": "code",
   "execution_count": 9,
   "metadata": {
    "collapsed": true
   },
   "outputs": [],
   "source": [
    "from cribbage import *"
   ]
  },
  {
   "cell_type": "code",
   "execution_count": 4,
   "metadata": {
    "collapsed": true
   },
   "outputs": [],
   "source": [
    "import numpy as np"
   ]
  },
  {
   "cell_type": "code",
   "execution_count": 12,
   "metadata": {
    "collapsed": false
   },
   "outputs": [],
   "source": [
    "def generate_scores(n=4):\n",
    "    while True:\n",
    "        h = make_random_hand(n)\n",
    "        yield score_hand(h)"
   ]
  },
  {
   "cell_type": "code",
   "execution_count": 22,
   "metadata": {
    "collapsed": false
   },
   "outputs": [],
   "source": [
    "import itertools\n",
    "samples = np.array(list(itertools.islice(generate_scores(), 100000)))"
   ]
  },
  {
   "cell_type": "code",
   "execution_count": 16,
   "metadata": {
    "collapsed": true
   },
   "outputs": [],
   "source": [
    "%matplotlib inline"
   ]
  },
  {
   "cell_type": "code",
   "execution_count": 28,
   "metadata": {
    "collapsed": false
   },
   "outputs": [
    {
     "data": {
      "text/plain": [
       "(array([  2.99410000e+04,   0.00000000e+00,   4.30660000e+04,\n",
       "          8.18000000e+02,   1.45420000e+04,   2.92400000e+03,\n",
       "          7.03400000e+03,   4.93000000e+02,   7.65000000e+02,\n",
       "          5.10000000e+01,   1.97000000e+02,   4.00000000e+00,\n",
       "          1.44000000e+02,   0.00000000e+00,   2.10000000e+01,\n",
       "          0.00000000e+00,   0.00000000e+00,   0.00000000e+00,\n",
       "          0.00000000e+00,   0.00000000e+00,   0.00000000e+00,\n",
       "          0.00000000e+00,   0.00000000e+00,   0.00000000e+00,\n",
       "          0.00000000e+00,   0.00000000e+00,   0.00000000e+00,\n",
       "          0.00000000e+00,   0.00000000e+00]),\n",
       " array([  0.,   1.,   2.,   3.,   4.,   5.,   6.,   7.,   8.,   9.,  10.,\n",
       "         11.,  12.,  13.,  14.,  15.,  16.,  17.,  18.,  19.,  20.,  21.,\n",
       "         22.,  23.,  24.,  25.,  26.,  27.,  28.,  29.]),\n",
       " <a list of 29 Patch objects>)"
      ]
     },
     "execution_count": 28,
     "metadata": {},
     "output_type": "execute_result"
    },
    {
     "data": {
      "image/png": "[encoded data removed]",
      "text/plain": [
       "<matplotlib.figure.Figure at 0x112c6ae10>"
      ]
     },
     "metadata": {},
     "output_type": "display_data"
    }
   ],
   "source": [
    "from matplotlib import pyplot as plt\n",
    "plt.hist(samples, 29, (0,29))"
   ]
  },
  {
   "cell_type": "code",
   "execution_count": 29,
   "metadata": {
    "collapsed": false
   },
   "outputs": [
    {
     "data": {
      "text/plain": [
       "Counter({0: 29941,\n",
       "         2: 43066,\n",
       "         3: 818,\n",
       "         4: 14542,\n",
       "         5: 2924,\n",
       "         6: 7034,\n",
       "         7: 493,\n",
       "         8: 765,\n",
       "         9: 51,\n",
       "         10: 197,\n",
       "         11: 4,\n",
       "         12: 144,\n",
       "         14: 21})"
      ]
     },
     "execution_count": 29,
     "metadata": {},
     "output_type": "execute_result"
    }
   ],
   "source": [
    "from collections import Counter\n",
    "Counter(samples)"
   ]
  },
  {
   "cell_type": "code",
   "execution_count": 30,
   "metadata": {
    "collapsed": false
   },
   "outputs": [
    {
     "data": {
      "text/plain": [
       "Counter({0: 11299,\n",
       "         2: 26686,\n",
       "         3: 578,\n",
       "         4: 24748,\n",
       "         5: 2874,\n",
       "         6: 15567,\n",
       "         7: 4194,\n",
       "         8: 7849,\n",
       "         9: 1087,\n",
       "         10: 2321,\n",
       "         11: 101,\n",
       "         12: 2047,\n",
       "         13: 4,\n",
       "         14: 456,\n",
       "         16: 150,\n",
       "         18: 8,\n",
       "         20: 25,\n",
       "         22: 1,\n",
       "         24: 2,\n",
       "         28: 3})"
      ]
     },
     "execution_count": 30,
     "metadata": {},
     "output_type": "execute_result"
    },
    {
     "data": {
      "image/png": "[encoded data removed]",
      "text/plain": [
       "<matplotlib.figure.Figure at 0x112b23190>"
      ]
     },
     "metadata": {},
     "output_type": "display_data"
    }
   ],
   "source": [
    "samples5 = np.array(list(itertools.islice(generate_scores(5), 100000)))\n",
    "plt.hist(samples5, 29, (0,29))\n",
    "Counter(samples5)"
   ]
  }
 ],
 "metadata": {
  "kernelspec": {
   "display_name": "Python 2",
   "language": "python",
   "name": "python2"
  }
 },
 "nbformat": 4,
 "nbformat_minor": 1
}
