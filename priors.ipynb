{
 "cells": [
  {
   "cell_type": "code",
   "execution_count": 12,
   "metadata": {
    "collapsed": true
   },
   "outputs": [],
   "source": [
    "from cribbage.cards import *\n",
    "from cribbage.cribbage_score import *"
   ]
  },
  {
   "cell_type": "code",
   "execution_count": 13,
   "metadata": {
    "collapsed": false
   },
   "outputs": [
    {
     "data": {
      "text/plain": [
       "Counter({0: 38730,\n",
       "         1: 3772,\n",
       "         2: 108090,\n",
       "         3: 19539,\n",
       "         4: 109807,\n",
       "         5: 26812,\n",
       "         6: 69103,\n",
       "         7: 29145,\n",
       "         8: 43920,\n",
       "         9: 13873,\n",
       "         10: 14786,\n",
       "         11: 1976,\n",
       "         12: 12426,\n",
       "         13: 763,\n",
       "         14: 3495,\n",
       "         15: 389,\n",
       "         16: 2274,\n",
       "         17: 396,\n",
       "         18: 99,\n",
       "         20: 331,\n",
       "         21: 109,\n",
       "         22: 18,\n",
       "         23: 12,\n",
       "         24: 132,\n",
       "         28: 3})"
      ]
     },
     "execution_count": 13,
     "metadata": {},
     "output_type": "execute_result"
    },
    {
     "data": {
      "image/png": "[encoded data removed]",
      "text/plain": [
       "<matplotlib.figure.Figure at 0x10ce69050>"
      ]
     },
     "metadata": {},
     "output_type": "display_data"
    }
   ],
   "source": [
    "%matplotlib inline\n",
    "import numpy as np\n",
    "from matplotlib import pyplot as plt\n",
    "from collections import Counter\n",
    "import itertools\n",
    "def generate_5scores():\n",
    "    while True:\n",
    "        h, d = make_random_hand_and_draw()\n",
    "        yield score_hand(h, d)\n",
    "samples5 = np.array(list(itertools.islice(generate_5scores(), 500000)))\n",
    "plt.hist(samples5, 29, (0,29))\n",
    "plt.title('Histograms of scores of random 4-card hands plus a draw')\n",
    "plt.xlabel('Score')\n",
    "plt.ylabel('Count')\n",
    "Counter(samples5)"
   ]
  },
  {
   "cell_type": "code",
   "execution_count": 14,
   "metadata": {
    "collapsed": false
   },
   "outputs": [
    {
     "data": {
      "text/plain": [
       "<matplotlib.text.Text at 0x10e4f92d0>"
      ]
     },
     "execution_count": 14,
     "metadata": {},
     "output_type": "execute_result"
    },
    {
     "data": {
      "image/png": "[encoded data removed]",
      "text/plain": [
       "<matplotlib.figure.Figure at 0x10e4db090>"
      ]
     },
     "metadata": {},
     "output_type": "display_data"
    }
   ],
   "source": [
    "plt.hist(samples5, 15, (0,30))\n",
    "plt.title('Histograms of scores of random 4-card hands plus a draw (even-odd averaged)')\n",
    "plt.xlabel('Score')\n",
    "plt.ylabel('Count')"
   ]
  },
  {
   "cell_type": "code",
   "execution_count": 15,
   "metadata": {
    "collapsed": false
   },
   "outputs": [
    {
     "name": "stdout",
     "output_type": "stream",
     "text": [
      "10000 loops, best of 3: 79.5 µs per loop\n"
     ]
    }
   ],
   "source": [
    "%timeit h,d = make_random_hand_and_draw() ; score_hand(h,d)"
   ]
  },
  {
   "cell_type": "code",
   "execution_count": 19,
   "metadata": {
    "collapsed": false
   },
   "outputs": [
    {
     "name": "stdout",
     "output_type": "stream",
     "text": [
      "The slowest run took 5.98 times longer than the fastest. This could mean that an intermediate result is being cached.\n",
      "100000 loops, best of 3: 11.9 µs per loop\n"
     ]
    }
   ],
   "source": [
    "from cribbage import _cribbage_score as c_cribbage_score\n",
    "%timeit h,d = make_random_hand_and_draw() ; c_cribbage_score.score_hand(h,d)"
   ]
  },
  {
   "cell_type": "code",
   "execution_count": 21,
   "metadata": {
    "collapsed": false
   },
   "outputs": [
    {
     "name": "stdout",
     "output_type": "stream",
     "text": [
      "The slowest run took 6.68 times longer than the fastest. This could mean that an intermediate result is being cached.\n",
      "10000 loops, best of 3: 51 µs per loop\n"
     ]
    }
   ],
   "source": [
    "h,d = make_random_hand_and_draw()\n",
    "%timeit score_hand(h,d)"
   ]
  },
  {
   "cell_type": "code",
   "execution_count": 22,
   "metadata": {
    "collapsed": false
   },
   "outputs": [
    {
     "name": "stdout",
     "output_type": "stream",
     "text": [
      "The slowest run took 11.97 times longer than the fastest. This could mean that an intermediate result is being cached.\n",
      "1000000 loops, best of 3: 418 ns per loop\n"
     ]
    }
   ],
   "source": [
    "%timeit c_cribbage_score.score_hand(h,d)"
   ]
  },
  {
   "cell_type": "code",
   "execution_count": 23,
   "metadata": {
    "collapsed": false
   },
   "outputs": [
    {
     "name": "stdout",
     "output_type": "stream",
     "text": [
      "The slowest run took 7.20 times longer than the fastest. This could mean that an intermediate result is being cached.\n",
      "100000 loops, best of 3: 11.8 µs per loop\n"
     ]
    }
   ],
   "source": [
    "%timeit h,d = make_random_hand_and_draw()"
   ]
  }
 ],
 "metadata": {
  "kernelspec": {
   "display_name": "Python 2",
   "language": "python",
   "name": "python2"
  },
  "language_info": {
   "codemirror_mode": {
    "name": "ipython",
    "version": 2
   },
   "file_extension": ".py",
   "mimetype": "text/x-python",
   "name": "python",
   "nbconvert_exporter": "python",
   "pygments_lexer": "ipython2",
   "version": "2.7.13"
  }
 },
 "nbformat": 4,
 "nbformat_minor": 1
}
